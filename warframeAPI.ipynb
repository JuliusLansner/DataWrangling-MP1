{
 "cells": [
  {
   "cell_type": "markdown",
   "metadata": {},
   "source": [
    "This is a snippet from a project of my own(Julius) that i started to practice python on the first day.\n",
    "I became sick wed/thursday the 8th and therefore it is not as thorough as i would've wanted, in terms of considerations\n",
    "\n",
    "This project has the intent of making potential profit clear for myself while trading in the videogame Warframe. the API is from a third party, warframe.market.\n",
    "Warframe.market acts as a trading hub, wherein users post trades. Other users will be able to click \"buy\", which give a string of text they can paste into the game to contact the seller.\n",
    " Users have accounts with account names.\n",
    "\n"
   ]
  },
  {
   "cell_type": "code",
   "execution_count": 1,
   "metadata": {},
   "outputs": [
    {
     "name": "stdout",
     "output_type": "stream",
     "text": [
      "Requirement already satisfied: openpyxl in c:\\users\\axiis\\anaconda3\\lib\\site-packages (3.0.10)\n",
      "Requirement already satisfied: et_xmlfile in c:\\users\\axiis\\anaconda3\\lib\\site-packages (from openpyxl) (1.1.0)\n",
      "Note: you may need to restart the kernel to use updated packages.\n"
     ]
    }
   ],
   "source": [
    "#http requsts(get)\n",
    "import requests\n",
    "#data structure, pd\n",
    "import pandas as pd\n",
    "#hashing (usernames)\n",
    "import hashlib\n",
    "#visualization\n",
    "import matplotlib.pyplot as plt\n",
    "%pip install openpyxl"
   ]
  },
  {
   "cell_type": "code",
   "execution_count": 2,
   "metadata": {},
   "outputs": [],
   "source": [
    "#name of the item seperately, space->underscore, payloadnames have underscore.\n",
    "#Using \"augur reach\". Other examples: Pressure point, garuda prime set.\n",
    "itemname=(\"augur reach\")\n",
    "item = itemname.replace(\" \",\"_\")\n",
    "response = requests.get(f'https://api.warframe.market/v1/items/{item}/orders')"
   ]
  },
  {
   "cell_type": "code",
   "execution_count": 3,
   "metadata": {},
   "outputs": [],
   "source": [
    "#if request succeed, data variable becomes json response content.\n",
    "if response.status_code == 200:\n",
    "    data = response.json()\n",
    "    orders = data['payload']['orders']"
   ]
  },
  {
   "cell_type": "code",
   "execution_count": 4,
   "metadata": {},
   "outputs": [],
   "source": [
    "#Making the dataframe\n",
    "df = pd.DataFrame(orders)"
   ]
  },
  {
   "cell_type": "code",
   "execution_count": 5,
   "metadata": {},
   "outputs": [
    {
     "data": {
      "text/html": [
       "<div>\n",
       "<style scoped>\n",
       "    .dataframe tbody tr th:only-of-type {\n",
       "        vertical-align: middle;\n",
       "    }\n",
       "\n",
       "    .dataframe tbody tr th {\n",
       "        vertical-align: top;\n",
       "    }\n",
       "\n",
       "    .dataframe thead th {\n",
       "        text-align: right;\n",
       "    }\n",
       "</style>\n",
       "<table border=\"1\" class=\"dataframe\">\n",
       "  <thead>\n",
       "    <tr style=\"text-align: right;\">\n",
       "      <th></th>\n",
       "      <th>platinum</th>\n",
       "      <th>last_update</th>\n",
       "      <th>platform</th>\n",
       "      <th>visible</th>\n",
       "      <th>creation_date</th>\n",
       "      <th>quantity</th>\n",
       "      <th>user</th>\n",
       "      <th>order_type</th>\n",
       "      <th>id</th>\n",
       "      <th>mod_rank</th>\n",
       "      <th>region</th>\n",
       "    </tr>\n",
       "  </thead>\n",
       "  <tbody>\n",
       "    <tr>\n",
       "      <th>0</th>\n",
       "      <td>30</td>\n",
       "      <td>2018-05-09T15:21:35.000+00:00</td>\n",
       "      <td>pc</td>\n",
       "      <td>True</td>\n",
       "      <td>2018-05-09T15:21:35.000+00:00</td>\n",
       "      <td>1</td>\n",
       "      <td>{'reputation': 3, 'locale': 'en', 'avatar': No...</td>\n",
       "      <td>sell</td>\n",
       "      <td>5af311ffab37d3039432b91b</td>\n",
       "      <td>0</td>\n",
       "      <td>en</td>\n",
       "    </tr>\n",
       "    <tr>\n",
       "      <th>1</th>\n",
       "      <td>49</td>\n",
       "      <td>2024-01-27T22:56:06.000+00:00</td>\n",
       "      <td>pc</td>\n",
       "      <td>True</td>\n",
       "      <td>2018-10-02T01:17:49.000+00:00</td>\n",
       "      <td>1</td>\n",
       "      <td>{'reputation': 96, 'locale': 'en', 'avatar': N...</td>\n",
       "      <td>sell</td>\n",
       "      <td>5bb2c73d0f436001fae50286</td>\n",
       "      <td>5</td>\n",
       "      <td>en</td>\n",
       "    </tr>\n",
       "    <tr>\n",
       "      <th>2</th>\n",
       "      <td>20</td>\n",
       "      <td>2024-02-03T02:33:54.000+00:00</td>\n",
       "      <td>pc</td>\n",
       "      <td>True</td>\n",
       "      <td>2018-10-21T23:07:49.000+00:00</td>\n",
       "      <td>2</td>\n",
       "      <td>{'reputation': 5, 'locale': 'en', 'avatar': No...</td>\n",
       "      <td>sell</td>\n",
       "      <td>5bcd06c5814b4c0013b7c7b3</td>\n",
       "      <td>0</td>\n",
       "      <td>en</td>\n",
       "    </tr>\n",
       "    <tr>\n",
       "      <th>3</th>\n",
       "      <td>35</td>\n",
       "      <td>2019-02-26T09:19:15.000+00:00</td>\n",
       "      <td>pc</td>\n",
       "      <td>True</td>\n",
       "      <td>2019-02-26T09:19:15.000+00:00</td>\n",
       "      <td>1</td>\n",
       "      <td>{'reputation': 6, 'locale': 'en', 'avatar': No...</td>\n",
       "      <td>sell</td>\n",
       "      <td>5c75049306864507b9966dab</td>\n",
       "      <td>5</td>\n",
       "      <td>en</td>\n",
       "    </tr>\n",
       "    <tr>\n",
       "      <th>4</th>\n",
       "      <td>100</td>\n",
       "      <td>2019-05-17T12:57:54.000+00:00</td>\n",
       "      <td>pc</td>\n",
       "      <td>True</td>\n",
       "      <td>2019-05-17T12:57:54.000+00:00</td>\n",
       "      <td>6</td>\n",
       "      <td>{'reputation': 788, 'locale': 'en', 'avatar': ...</td>\n",
       "      <td>sell</td>\n",
       "      <td>5cdeafd2aa72901575366d6d</td>\n",
       "      <td>5</td>\n",
       "      <td>en</td>\n",
       "    </tr>\n",
       "    <tr>\n",
       "      <th>...</th>\n",
       "      <td>...</td>\n",
       "      <td>...</td>\n",
       "      <td>...</td>\n",
       "      <td>...</td>\n",
       "      <td>...</td>\n",
       "      <td>...</td>\n",
       "      <td>...</td>\n",
       "      <td>...</td>\n",
       "      <td>...</td>\n",
       "      <td>...</td>\n",
       "      <td>...</td>\n",
       "    </tr>\n",
       "    <tr>\n",
       "      <th>726</th>\n",
       "      <td>30</td>\n",
       "      <td>2024-02-11T12:49:54.000+00:00</td>\n",
       "      <td>pc</td>\n",
       "      <td>True</td>\n",
       "      <td>2024-02-11T12:49:54.000+00:00</td>\n",
       "      <td>7</td>\n",
       "      <td>{'reputation': 1, 'locale': 'en', 'avatar': 'u...</td>\n",
       "      <td>sell</td>\n",
       "      <td>65c8c27250ebee022f8fb158</td>\n",
       "      <td>5</td>\n",
       "      <td>en</td>\n",
       "    </tr>\n",
       "    <tr>\n",
       "      <th>727</th>\n",
       "      <td>20</td>\n",
       "      <td>2024-02-11T13:20:38.000+00:00</td>\n",
       "      <td>pc</td>\n",
       "      <td>True</td>\n",
       "      <td>2024-02-11T13:20:38.000+00:00</td>\n",
       "      <td>1</td>\n",
       "      <td>{'reputation': 0, 'locale': 'en', 'avatar': No...</td>\n",
       "      <td>sell</td>\n",
       "      <td>65c8c9a6fe113c0523450999</td>\n",
       "      <td>0</td>\n",
       "      <td>en</td>\n",
       "    </tr>\n",
       "    <tr>\n",
       "      <th>728</th>\n",
       "      <td>18</td>\n",
       "      <td>2024-02-11T13:22:06.000+00:00</td>\n",
       "      <td>pc</td>\n",
       "      <td>True</td>\n",
       "      <td>2024-02-11T13:22:06.000+00:00</td>\n",
       "      <td>3</td>\n",
       "      <td>{'reputation': 4, 'locale': 'en', 'avatar': 'u...</td>\n",
       "      <td>sell</td>\n",
       "      <td>65c8c9feb0360b00b592da99</td>\n",
       "      <td>0</td>\n",
       "      <td>en</td>\n",
       "    </tr>\n",
       "    <tr>\n",
       "      <th>729</th>\n",
       "      <td>19</td>\n",
       "      <td>2024-02-11T13:27:17.000+00:00</td>\n",
       "      <td>pc</td>\n",
       "      <td>True</td>\n",
       "      <td>2024-02-11T13:27:17.000+00:00</td>\n",
       "      <td>1</td>\n",
       "      <td>{'reputation': 1, 'locale': 'en', 'avatar': No...</td>\n",
       "      <td>sell</td>\n",
       "      <td>65c8cb35a6d41f0091b88016</td>\n",
       "      <td>0</td>\n",
       "      <td>en</td>\n",
       "    </tr>\n",
       "    <tr>\n",
       "      <th>730</th>\n",
       "      <td>7</td>\n",
       "      <td>2024-02-11T13:27:33.000+00:00</td>\n",
       "      <td>pc</td>\n",
       "      <td>True</td>\n",
       "      <td>2024-02-11T13:27:33.000+00:00</td>\n",
       "      <td>1</td>\n",
       "      <td>{'reputation': 2, 'locale': 'en', 'avatar': No...</td>\n",
       "      <td>buy</td>\n",
       "      <td>65c8cb4550690803c7fd1e8d</td>\n",
       "      <td>5</td>\n",
       "      <td>en</td>\n",
       "    </tr>\n",
       "  </tbody>\n",
       "</table>\n",
       "<p>731 rows × 11 columns</p>\n",
       "</div>"
      ],
      "text/plain": [
       "     platinum                    last_update platform  visible  \\\n",
       "0          30  2018-05-09T15:21:35.000+00:00       pc     True   \n",
       "1          49  2024-01-27T22:56:06.000+00:00       pc     True   \n",
       "2          20  2024-02-03T02:33:54.000+00:00       pc     True   \n",
       "3          35  2019-02-26T09:19:15.000+00:00       pc     True   \n",
       "4         100  2019-05-17T12:57:54.000+00:00       pc     True   \n",
       "..        ...                            ...      ...      ...   \n",
       "726        30  2024-02-11T12:49:54.000+00:00       pc     True   \n",
       "727        20  2024-02-11T13:20:38.000+00:00       pc     True   \n",
       "728        18  2024-02-11T13:22:06.000+00:00       pc     True   \n",
       "729        19  2024-02-11T13:27:17.000+00:00       pc     True   \n",
       "730         7  2024-02-11T13:27:33.000+00:00       pc     True   \n",
       "\n",
       "                     creation_date  quantity  \\\n",
       "0    2018-05-09T15:21:35.000+00:00         1   \n",
       "1    2018-10-02T01:17:49.000+00:00         1   \n",
       "2    2018-10-21T23:07:49.000+00:00         2   \n",
       "3    2019-02-26T09:19:15.000+00:00         1   \n",
       "4    2019-05-17T12:57:54.000+00:00         6   \n",
       "..                             ...       ...   \n",
       "726  2024-02-11T12:49:54.000+00:00         7   \n",
       "727  2024-02-11T13:20:38.000+00:00         1   \n",
       "728  2024-02-11T13:22:06.000+00:00         3   \n",
       "729  2024-02-11T13:27:17.000+00:00         1   \n",
       "730  2024-02-11T13:27:33.000+00:00         1   \n",
       "\n",
       "                                                  user order_type  \\\n",
       "0    {'reputation': 3, 'locale': 'en', 'avatar': No...       sell   \n",
       "1    {'reputation': 96, 'locale': 'en', 'avatar': N...       sell   \n",
       "2    {'reputation': 5, 'locale': 'en', 'avatar': No...       sell   \n",
       "3    {'reputation': 6, 'locale': 'en', 'avatar': No...       sell   \n",
       "4    {'reputation': 788, 'locale': 'en', 'avatar': ...       sell   \n",
       "..                                                 ...        ...   \n",
       "726  {'reputation': 1, 'locale': 'en', 'avatar': 'u...       sell   \n",
       "727  {'reputation': 0, 'locale': 'en', 'avatar': No...       sell   \n",
       "728  {'reputation': 4, 'locale': 'en', 'avatar': 'u...       sell   \n",
       "729  {'reputation': 1, 'locale': 'en', 'avatar': No...       sell   \n",
       "730  {'reputation': 2, 'locale': 'en', 'avatar': No...        buy   \n",
       "\n",
       "                           id  mod_rank region  \n",
       "0    5af311ffab37d3039432b91b         0     en  \n",
       "1    5bb2c73d0f436001fae50286         5     en  \n",
       "2    5bcd06c5814b4c0013b7c7b3         0     en  \n",
       "3    5c75049306864507b9966dab         5     en  \n",
       "4    5cdeafd2aa72901575366d6d         5     en  \n",
       "..                        ...       ...    ...  \n",
       "726  65c8c27250ebee022f8fb158         5     en  \n",
       "727  65c8c9a6fe113c0523450999         0     en  \n",
       "728  65c8c9feb0360b00b592da99         0     en  \n",
       "729  65c8cb35a6d41f0091b88016         0     en  \n",
       "730  65c8cb4550690803c7fd1e8d         5     en  \n",
       "\n",
       "[731 rows x 11 columns]"
      ]
     },
     "execution_count": 5,
     "metadata": {},
     "output_type": "execute_result"
    }
   ],
   "source": [
    "#the warframe.market api is very nested, so one needs to dig deep to find the data needed.\n",
    "df"
   ]
  },
  {
   "cell_type": "code",
   "execution_count": 6,
   "metadata": {},
   "outputs": [],
   "source": [
    "#Data cleaning\n",
    "#Warframe.market shows offline, ingame, online, sell / buy order, and platform. Cleaning to show relevant user trades.\n",
    "df = df[(df['order_type'] == 'sell') & (df['platform'] == 'pc') & ((df['user'].apply(lambda x: x['status']) == 'online') | (df['user'].apply(lambda x: x['status']) == 'ingame'))]"
   ]
  },
  {
   "cell_type": "code",
   "execution_count": 7,
   "metadata": {},
   "outputs": [
    {
     "data": {
      "text/html": [
       "<div>\n",
       "<style scoped>\n",
       "    .dataframe tbody tr th:only-of-type {\n",
       "        vertical-align: middle;\n",
       "    }\n",
       "\n",
       "    .dataframe tbody tr th {\n",
       "        vertical-align: top;\n",
       "    }\n",
       "\n",
       "    .dataframe thead th {\n",
       "        text-align: right;\n",
       "    }\n",
       "</style>\n",
       "<table border=\"1\" class=\"dataframe\">\n",
       "  <thead>\n",
       "    <tr style=\"text-align: right;\">\n",
       "      <th></th>\n",
       "      <th>platinum</th>\n",
       "      <th>last_update</th>\n",
       "      <th>platform</th>\n",
       "      <th>visible</th>\n",
       "      <th>creation_date</th>\n",
       "      <th>quantity</th>\n",
       "      <th>user</th>\n",
       "      <th>order_type</th>\n",
       "      <th>id</th>\n",
       "      <th>mod_rank</th>\n",
       "      <th>region</th>\n",
       "    </tr>\n",
       "  </thead>\n",
       "  <tbody>\n",
       "    <tr>\n",
       "      <th>1</th>\n",
       "      <td>49</td>\n",
       "      <td>2024-01-27T22:56:06.000+00:00</td>\n",
       "      <td>pc</td>\n",
       "      <td>True</td>\n",
       "      <td>2018-10-02T01:17:49.000+00:00</td>\n",
       "      <td>1</td>\n",
       "      <td>{'reputation': 96, 'locale': 'en', 'avatar': N...</td>\n",
       "      <td>sell</td>\n",
       "      <td>5bb2c73d0f436001fae50286</td>\n",
       "      <td>5</td>\n",
       "      <td>en</td>\n",
       "    </tr>\n",
       "    <tr>\n",
       "      <th>4</th>\n",
       "      <td>100</td>\n",
       "      <td>2019-05-17T12:57:54.000+00:00</td>\n",
       "      <td>pc</td>\n",
       "      <td>True</td>\n",
       "      <td>2019-05-17T12:57:54.000+00:00</td>\n",
       "      <td>6</td>\n",
       "      <td>{'reputation': 788, 'locale': 'en', 'avatar': ...</td>\n",
       "      <td>sell</td>\n",
       "      <td>5cdeafd2aa72901575366d6d</td>\n",
       "      <td>5</td>\n",
       "      <td>en</td>\n",
       "    </tr>\n",
       "    <tr>\n",
       "      <th>23</th>\n",
       "      <td>49</td>\n",
       "      <td>2023-04-28T04:54:33.000+00:00</td>\n",
       "      <td>pc</td>\n",
       "      <td>True</td>\n",
       "      <td>2022-05-15T09:07:06.000+00:00</td>\n",
       "      <td>30</td>\n",
       "      <td>{'reputation': 1369, 'locale': 'en', 'avatar':...</td>\n",
       "      <td>sell</td>\n",
       "      <td>6280c2ba6dd0a001794d4c77</td>\n",
       "      <td>5</td>\n",
       "      <td>en</td>\n",
       "    </tr>\n",
       "    <tr>\n",
       "      <th>27</th>\n",
       "      <td>27</td>\n",
       "      <td>2023-05-28T11:58:08.000+00:00</td>\n",
       "      <td>pc</td>\n",
       "      <td>True</td>\n",
       "      <td>2022-07-10T00:44:33.000+00:00</td>\n",
       "      <td>3</td>\n",
       "      <td>{'reputation': 195, 'locale': 'en', 'avatar': ...</td>\n",
       "      <td>sell</td>\n",
       "      <td>62ca20f1f2b8830091fe3046</td>\n",
       "      <td>5</td>\n",
       "      <td>en</td>\n",
       "    </tr>\n",
       "    <tr>\n",
       "      <th>47</th>\n",
       "      <td>80</td>\n",
       "      <td>2024-01-08T01:40:04.000+00:00</td>\n",
       "      <td>pc</td>\n",
       "      <td>True</td>\n",
       "      <td>2022-12-31T15:58:43.000+00:00</td>\n",
       "      <td>69</td>\n",
       "      <td>{'reputation': 315, 'locale': 'en', 'avatar': ...</td>\n",
       "      <td>sell</td>\n",
       "      <td>63b05c33723943101737ba12</td>\n",
       "      <td>5</td>\n",
       "      <td>en</td>\n",
       "    </tr>\n",
       "  </tbody>\n",
       "</table>\n",
       "</div>"
      ],
      "text/plain": [
       "    platinum                    last_update platform  visible  \\\n",
       "1         49  2024-01-27T22:56:06.000+00:00       pc     True   \n",
       "4        100  2019-05-17T12:57:54.000+00:00       pc     True   \n",
       "23        49  2023-04-28T04:54:33.000+00:00       pc     True   \n",
       "27        27  2023-05-28T11:58:08.000+00:00       pc     True   \n",
       "47        80  2024-01-08T01:40:04.000+00:00       pc     True   \n",
       "\n",
       "                    creation_date  quantity  \\\n",
       "1   2018-10-02T01:17:49.000+00:00         1   \n",
       "4   2019-05-17T12:57:54.000+00:00         6   \n",
       "23  2022-05-15T09:07:06.000+00:00        30   \n",
       "27  2022-07-10T00:44:33.000+00:00         3   \n",
       "47  2022-12-31T15:58:43.000+00:00        69   \n",
       "\n",
       "                                                 user order_type  \\\n",
       "1   {'reputation': 96, 'locale': 'en', 'avatar': N...       sell   \n",
       "4   {'reputation': 788, 'locale': 'en', 'avatar': ...       sell   \n",
       "23  {'reputation': 1369, 'locale': 'en', 'avatar':...       sell   \n",
       "27  {'reputation': 195, 'locale': 'en', 'avatar': ...       sell   \n",
       "47  {'reputation': 315, 'locale': 'en', 'avatar': ...       sell   \n",
       "\n",
       "                          id  mod_rank region  \n",
       "1   5bb2c73d0f436001fae50286         5     en  \n",
       "4   5cdeafd2aa72901575366d6d         5     en  \n",
       "23  6280c2ba6dd0a001794d4c77         5     en  \n",
       "27  62ca20f1f2b8830091fe3046         5     en  \n",
       "47  63b05c33723943101737ba12         5     en  "
      ]
     },
     "execution_count": 7,
     "metadata": {},
     "output_type": "execute_result"
    }
   ],
   "source": [
    "#showing current data.\n",
    "df.head()"
   ]
  },
  {
   "cell_type": "code",
   "execution_count": 8,
   "metadata": {},
   "outputs": [
    {
     "data": {
      "text/plain": [
       "platinum         0\n",
       "last_update      0\n",
       "platform         0\n",
       "visible          0\n",
       "creation_date    0\n",
       "quantity         0\n",
       "user             0\n",
       "order_type       0\n",
       "id               0\n",
       "mod_rank         0\n",
       "region           0\n",
       "dtype: int64"
      ]
     },
     "execution_count": 8,
     "metadata": {},
     "output_type": "execute_result"
    }
   ],
   "source": [
    "#Data exploration\n",
    "df.isnull().sum()"
   ]
  },
  {
   "cell_type": "code",
   "execution_count": 9,
   "metadata": {},
   "outputs": [
    {
     "data": {
      "text/plain": [
       "platinum         57\n",
       "last_update      57\n",
       "platform         57\n",
       "visible          57\n",
       "creation_date    57\n",
       "quantity         57\n",
       "user             57\n",
       "order_type       57\n",
       "id               57\n",
       "mod_rank         57\n",
       "region           57\n",
       "dtype: int64"
      ]
     },
     "execution_count": 9,
     "metadata": {},
     "output_type": "execute_result"
    }
   ],
   "source": [
    "\n",
    "df.count()"
   ]
  },
  {
   "cell_type": "code",
   "execution_count": 10,
   "metadata": {},
   "outputs": [
    {
     "name": "stderr",
     "output_type": "stream",
     "text": [
      "C:\\Users\\AxiiS\\AppData\\Local\\Temp\\ipykernel_107644\\4010300516.py:2: SettingWithCopyWarning: \n",
      "A value is trying to be set on a copy of a slice from a DataFrame.\n",
      "Try using .loc[row_indexer,col_indexer] = value instead\n",
      "\n",
      "See the caveats in the documentation: https://pandas.pydata.org/pandas-docs/stable/user_guide/indexing.html#returning-a-view-versus-a-copy\n",
      "  df['last_update'] = pd.to_datetime(df['last_update']).dt.tz_localize(None)\n"
     ]
    }
   ],
   "source": [
    "#cleaning last_update, removing timezone\n",
    "df['last_update'] = pd.to_datetime(df['last_update']).dt.tz_localize(None)\n"
   ]
  },
  {
   "cell_type": "code",
   "execution_count": 11,
   "metadata": {},
   "outputs": [
    {
     "name": "stderr",
     "output_type": "stream",
     "text": [
      "C:\\Users\\AxiiS\\AppData\\Local\\Temp\\ipykernel_107644\\1107873046.py:2: SettingWithCopyWarning: \n",
      "A value is trying to be set on a copy of a slice from a DataFrame.\n",
      "Try using .loc[row_indexer,col_indexer] = value instead\n",
      "\n",
      "See the caveats in the documentation: https://pandas.pydata.org/pandas-docs/stable/user_guide/indexing.html#returning-a-view-versus-a-copy\n",
      "  df['creation_date'] = pd.to_datetime(df['creation_date']).dt.date\n"
     ]
    }
   ],
   "source": [
    "#cleaning creation_date(removing time/timezone)\n",
    "df['creation_date'] = pd.to_datetime(df['creation_date']).dt.date"
   ]
  },
  {
   "cell_type": "code",
   "execution_count": 12,
   "metadata": {},
   "outputs": [
    {
     "name": "stderr",
     "output_type": "stream",
     "text": [
      "C:\\Users\\AxiiS\\AppData\\Local\\Temp\\ipykernel_107644\\1711834775.py:2: SettingWithCopyWarning: \n",
      "A value is trying to be set on a copy of a slice from a DataFrame.\n",
      "Try using .loc[row_indexer,col_indexer] = value instead\n",
      "\n",
      "See the caveats in the documentation: https://pandas.pydata.org/pandas-docs/stable/user_guide/indexing.html#returning-a-view-versus-a-copy\n",
      "  df['user'] = df['user'].apply(lambda x: x['ingame_name'] if 'ingame_name' in x else None)\n"
     ]
    }
   ],
   "source": [
    "#removing everything but the ingame_name from the user column\n",
    "df['user'] = df['user'].apply(lambda x: x['ingame_name'] if 'ingame_name' in x else None)"
   ]
  },
  {
   "cell_type": "code",
   "execution_count": 13,
   "metadata": {},
   "outputs": [],
   "source": [
    "#Droppingn a few columns\n",
    "#id\n",
    "df = df.drop(['id','order_type','region','visible'], axis=1)"
   ]
  },
  {
   "cell_type": "markdown",
   "metadata": {},
   "source": [
    "If i were to use this program to trade, anonymization would be a very bad idea.\n",
    "For the sake of storing said data to use for BI stuff, i would argue that even though it's usernames,\n",
    "it should be done.\n",
    "\n",
    "hashing or pseudonymizaiton seems to be the best practice for this case(usernames)."
   ]
  },
  {
   "cell_type": "code",
   "execution_count": 14,
   "metadata": {},
   "outputs": [],
   "source": [
    "#using hashlib to scramble the names.\n",
    "df['user'] = df['user'].apply(lambda name: hashlib.sha256(name.encode()).hexdigest())"
   ]
  },
  {
   "cell_type": "code",
   "execution_count": 15,
   "metadata": {},
   "outputs": [
    {
     "data": {
      "text/html": [
       "<div>\n",
       "<style scoped>\n",
       "    .dataframe tbody tr th:only-of-type {\n",
       "        vertical-align: middle;\n",
       "    }\n",
       "\n",
       "    .dataframe tbody tr th {\n",
       "        vertical-align: top;\n",
       "    }\n",
       "\n",
       "    .dataframe thead th {\n",
       "        text-align: right;\n",
       "    }\n",
       "</style>\n",
       "<table border=\"1\" class=\"dataframe\">\n",
       "  <thead>\n",
       "    <tr style=\"text-align: right;\">\n",
       "      <th></th>\n",
       "      <th>platinum</th>\n",
       "      <th>last_update</th>\n",
       "      <th>platform</th>\n",
       "      <th>creation_date</th>\n",
       "      <th>quantity</th>\n",
       "      <th>user</th>\n",
       "      <th>mod_rank</th>\n",
       "    </tr>\n",
       "  </thead>\n",
       "  <tbody>\n",
       "    <tr>\n",
       "      <th>1</th>\n",
       "      <td>49</td>\n",
       "      <td>2024-01-27 22:56:06</td>\n",
       "      <td>pc</td>\n",
       "      <td>2018-10-02</td>\n",
       "      <td>1</td>\n",
       "      <td>9ae580d2bffad3c87e9b41b31877510b70533c3290b94e...</td>\n",
       "      <td>5</td>\n",
       "    </tr>\n",
       "    <tr>\n",
       "      <th>4</th>\n",
       "      <td>100</td>\n",
       "      <td>2019-05-17 12:57:54</td>\n",
       "      <td>pc</td>\n",
       "      <td>2019-05-17</td>\n",
       "      <td>6</td>\n",
       "      <td>d3ccf63298746d348a38eb7a98b552b3e20e7ea6ff578d...</td>\n",
       "      <td>5</td>\n",
       "    </tr>\n",
       "    <tr>\n",
       "      <th>23</th>\n",
       "      <td>49</td>\n",
       "      <td>2023-04-28 04:54:33</td>\n",
       "      <td>pc</td>\n",
       "      <td>2022-05-15</td>\n",
       "      <td>30</td>\n",
       "      <td>5e4b9a84cc1930a0e8775a0eb5b7b4cba12cb16186af36...</td>\n",
       "      <td>5</td>\n",
       "    </tr>\n",
       "    <tr>\n",
       "      <th>27</th>\n",
       "      <td>27</td>\n",
       "      <td>2023-05-28 11:58:08</td>\n",
       "      <td>pc</td>\n",
       "      <td>2022-07-10</td>\n",
       "      <td>3</td>\n",
       "      <td>f5c219625793fe9afaa36cbe38c183b89c727051cab7ce...</td>\n",
       "      <td>5</td>\n",
       "    </tr>\n",
       "    <tr>\n",
       "      <th>47</th>\n",
       "      <td>80</td>\n",
       "      <td>2024-01-08 01:40:04</td>\n",
       "      <td>pc</td>\n",
       "      <td>2022-12-31</td>\n",
       "      <td>69</td>\n",
       "      <td>18e6ef9ecfc94b407d26e7a801b8bdeba0d7b68423e70c...</td>\n",
       "      <td>5</td>\n",
       "    </tr>\n",
       "  </tbody>\n",
       "</table>\n",
       "</div>"
      ],
      "text/plain": [
       "    platinum         last_update platform creation_date  quantity  \\\n",
       "1         49 2024-01-27 22:56:06       pc    2018-10-02         1   \n",
       "4        100 2019-05-17 12:57:54       pc    2019-05-17         6   \n",
       "23        49 2023-04-28 04:54:33       pc    2022-05-15        30   \n",
       "27        27 2023-05-28 11:58:08       pc    2022-07-10         3   \n",
       "47        80 2024-01-08 01:40:04       pc    2022-12-31        69   \n",
       "\n",
       "                                                 user  mod_rank  \n",
       "1   9ae580d2bffad3c87e9b41b31877510b70533c3290b94e...         5  \n",
       "4   d3ccf63298746d348a38eb7a98b552b3e20e7ea6ff578d...         5  \n",
       "23  5e4b9a84cc1930a0e8775a0eb5b7b4cba12cb16186af36...         5  \n",
       "27  f5c219625793fe9afaa36cbe38c183b89c727051cab7ce...         5  \n",
       "47  18e6ef9ecfc94b407d26e7a801b8bdeba0d7b68423e70c...         5  "
      ]
     },
     "execution_count": 15,
     "metadata": {},
     "output_type": "execute_result"
    }
   ],
   "source": [
    "df.head()"
   ]
  },
  {
   "cell_type": "markdown",
   "metadata": {},
   "source": [
    "Data visualization"
   ]
  },
  {
   "cell_type": "code",
   "execution_count": 16,
   "metadata": {},
   "outputs": [
    {
     "data": {
      "text/plain": [
       "<Axes: ylabel='Frequency'>"
      ]
     },
     "execution_count": 16,
     "metadata": {},
     "output_type": "execute_result"
    },
    {
     "data": {
      "image/png": "[encoded data removed]",
      "text/plain": [
       "<Figure size 640x480 with 1 Axes>"
      ]
     },
     "metadata": {},
     "output_type": "display_data"
    }
   ],
   "source": [
    "#using built in histogram.\n",
    "#platinum = price\n",
    "df.platinum.plot.hist()"
   ]
  },
  {
   "cell_type": "code",
   "execution_count": 17,
   "metadata": {},
   "outputs": [
    {
     "data": {
      "image/png": "[encoded data removed]",
      "text/plain": [
       "<Figure size 640x480 with 1 Axes>"
      ]
     },
     "metadata": {},
     "output_type": "display_data"
    }
   ],
   "source": [
    "df['platinum'].hist(bins=30)\n",
    "plt.title('price distrubution')\n",
    "plt.xlabel('price')\n",
    "plt.ylabel('frequency')\n",
    "plt.show()"
   ]
  },
  {
   "cell_type": "markdown",
   "metadata": {},
   "source": [
    "Very useful for this case: Time series plot"
   ]
  },
  {
   "cell_type": "code",
   "execution_count": 18,
   "metadata": {},
   "outputs": [
    {
     "data": {
      "image/png": "[encoded data removed]",
      "text/plain": [
       "<Figure size 640x480 with 1 Axes>"
      ]
     },
     "metadata": {},
     "output_type": "display_data"
    }
   ],
   "source": [
    "df.set_index('last_update')['platinum'].plot()\n",
    "plt.title('price over time')\n",
    "plt.xlabel('last updated')\n",
    "plt.ylabel('price')\n",
    "plt.show()"
   ]
  },
  {
   "cell_type": "markdown",
   "metadata": {},
   "source": [
    "2023/2024 was a mess"
   ]
  },
  {
   "cell_type": "code",
   "execution_count": 19,
   "metadata": {},
   "outputs": [],
   "source": [
    "#saving data to a CSV, using the name of the item. \n",
    "#df.to_csv(f'{item}.csv', index=False, sep='\\t', encoding='utf-8')"
   ]
  },
  {
   "cell_type": "code",
   "execution_count": 21,
   "metadata": {},
   "outputs": [],
   "source": [
    "#to excel file\n",
    "df.to_excel(f'{item}_xlsx.xlsx',index = False)"
   ]
  }
 ],
 "metadata": {
  "kernelspec": {
   "display_name": "base",
   "language": "python",
   "name": "python3"
  },
  "language_info": {
   "codemirror_mode": {
    "name": "ipython",
    "version": 3
   },
   "file_extension": ".py",
   "mimetype": "text/x-python",
   "name": "python",
   "nbconvert_exporter": "python",
   "pygments_lexer": "ipython3",
   "version": "3.11.5"
  }
 },
 "nbformat": 4,
 "nbformat_minor": 2
}
