{
 "cells": [
  {
   "cell_type": "markdown",
   "id": "efe19029",
   "metadata": {},
   "source": [
    "# Webscraping data about philosophy books\n",
    "<br>\n",
    "This program gathers information about current philosophy books for sale. The data includes details such as title, price, reviews, and availability. Once the data is collected, it undergoes a minor cleanup and is then saved in a .csv file. Subsequently, the program reads the .csv file, and the data is presented appropriately."
   ]
  },
  {
   "cell_type": "markdown",
   "id": "42f0d90e",
   "metadata": {},
   "source": [
    "## Enviroment"
   ]
  },
  {
   "cell_type": "code",
   "execution_count": null,
   "id": "38d91355",
   "metadata": {},
   "outputs": [],
   "source": [
    "from bs4 import BeautifulSoup as bs # webscraping\n",
    "import matplotlib.pyplot as plt # visualization\n",
    "import pandas as pd # data structure\n",
    "import requests # HTTP-requests"
   ]
  },
  {
   "cell_type": "markdown",
   "id": "37b4a390",
   "metadata": {},
   "source": [
    "## Collect data"
   ]
  },
  {
   "cell_type": "code",
   "execution_count": null,
   "id": "74ef5c66",
   "metadata": {},
   "outputs": [],
   "source": [
    "url = \"https://books.toscrape.com/catalogue/category/books/philosophy_7/index.html\""
   ]
  },
  {
   "cell_type": "code",
   "execution_count": null,
   "id": "81f6a36c",
   "metadata": {},
   "outputs": [],
   "source": [
    "response = requests.get(url)\n",
    "soup = bs(response.text, 'html.parser')\n",
    "\n",
    "titles = [title.text.strip() for title in soup.select('h3 a')]\n",
    "prices = [price.text.strip() for price in soup.select('div p.price_color')]\n",
    "ratings = [rating['class'][1] for rating in soup.select('p.star-rating')]\n",
    "availability = [status.text.strip() for status in soup.select('div p.availability')]"
   ]
  },
  {
   "cell_type": "markdown",
   "id": "c021b04a",
   "metadata": {},
   "source": [
    "## Create dataframe"
   ]
  },
  {
   "cell_type": "code",
   "execution_count": null,
   "id": "fcd0a1d7",
   "metadata": {},
   "outputs": [],
   "source": [
    "# create dataframe\n",
    "data = {'Title': titles, 'Price': prices, 'Rating': ratings, 'Availability': availability}\n",
    "df = pd.DataFrame(data)\n",
    "\n",
    "# seems to be a mismatch between the character set on the website and this program. Therefore minor cleanup is done below:\n",
    "df['Price'] = df['Price'].str.replace('Â', '')\n",
    "df['Title'] = df['Title'].str.replace('©', '')\n",
    "df['Title'] = df['Title'].str.replace('Ã', 'é')\n",
    "\n",
    "# view dataframe head\n",
    "print(df.head())"
   ]
  },
  {
   "cell_type": "markdown",
   "id": "f7f7c167",
   "metadata": {},
   "source": [
    "## Save data"
   ]
  },
  {
   "cell_type": "code",
   "execution_count": null,
   "id": "a7b75cad",
   "metadata": {},
   "outputs": [],
   "source": [
    "# save dataframe to csv\n",
    "df.to_csv('philosophy_books_data.csv', index=False, sep='\\t', encoding='utf-8')\n",
    "\n",
    "print(\"Data has been saved to a .csv file\")"
   ]
  },
  {
   "cell_type": "markdown",
   "id": "c39b5e82",
   "metadata": {},
   "source": [
    "## Read data"
   ]
  },
  {
   "cell_type": "code",
   "execution_count": null,
   "id": "1a793bad",
   "metadata": {},
   "outputs": [],
   "source": [
    "# read data \n",
    "loaded_df = pd.read_csv('philosophy_books_data.csv', sep='\\t', encoding='utf-8')\n",
    "\n",
    "# view dataframe\n",
    "print(loaded_df)"
   ]
  },
  {
   "cell_type": "markdown",
   "id": "fb1a864d",
   "metadata": {},
   "source": [
    "## Data visualisation"
   ]
  },
  {
   "cell_type": "markdown",
   "id": "5f281344",
   "metadata": {},
   "source": [
    "### Availability"
   ]
  },
  {
   "cell_type": "code",
   "execution_count": null,
   "id": "8e43eeac",
   "metadata": {},
   "outputs": [],
   "source": [
    "# count number of unique values in colonne \n",
    "availability_counts = df['Availability'].value_counts()\n",
    "\n",
    "plt.pie(availability_counts, labels=availability_counts.index, autopct='%1.1f%%', startangle=90)\n",
    "plt.title('Availability of philosophy books')\n",
    "plt.show()"
   ]
  },
  {
   "cell_type": "markdown",
   "id": "f12880ac",
   "metadata": {},
   "source": [
    "### Raiting"
   ]
  },
  {
   "cell_type": "code",
   "execution_count": null,
   "id": "5e05c547",
   "metadata": {},
   "outputs": [],
   "source": [
    "# convert 'raiting' colonne to categorical datatype\n",
    "rating_order = ['One', 'Two', 'Three', 'Four', 'Five']\n",
    "df['Rating'] = pd.Categorical(df['Rating'], categories=rating_order, ordered=True)\n",
    "\n",
    "plt.figure(figsize=(8, 5))\n",
    "df['Rating'].value_counts().sort_index().plot(kind='bar', color='green')\n",
    "plt.xlabel('Rating')\n",
    "plt.ylabel('Number of books')\n",
    "plt.title('Book rating')\n",
    "plt.xticks(rotation=0, ha='center')\n",
    "plt.show()"
   ]
  },
  {
   "cell_type": "markdown",
   "id": "f9d7a4e6",
   "metadata": {},
   "source": [
    "### Overview between price and raiting"
   ]
  },
  {
   "cell_type": "code",
   "execution_count": null,
   "id": "04515a5c",
   "metadata": {},
   "outputs": [],
   "source": [
    "# convert prices to floats\n",
    "df['Price'] = df['Price'].replace('[\\£,]', '', regex=True).astype(float)\n",
    "\n",
    "# scatter plot\n",
    "plt.figure(figsize=(10, 6))\n",
    "plt.scatter(df['Price'], df['Rating'].map({'One': 1, 'Two': 2, 'Three': 3, 'Four': 4, 'Five': 5}), color='purple', alpha=0.5)\n",
    "plt.xlabel('Price (£)')\n",
    "plt.ylabel('Raiting')\n",
    "plt.title('Overview between price and raiting')\n",
    "# only show whole numbers\n",
    "plt.yticks(range(1, 6))\n",
    "plt.show()"
   ]
  },
  {
   "cell_type": "markdown",
   "id": "fe6f569c",
   "metadata": {},
   "source": [
    "### Pricing"
   ]
  },
  {
   "cell_type": "code",
   "execution_count": null,
   "id": "d4852f0c",
   "metadata": {},
   "outputs": [],
   "source": [
    "plt.hist(df['Price'].astype(float), bins=20, color='skyblue', edgecolor='black')\n",
    "\n",
    "plt.title('Overview of philosohpy books and price')\n",
    "plt.xlabel('Price')\n",
    "plt.ylabel('Number of books')\n",
    "\n",
    "plt.show()\n"
   ]
  }
 ],
 "metadata": {
  "kernelspec": {
   "display_name": "Python 3 (ipykernel)",
   "language": "python",
   "name": "python3"
  },
  "language_info": {
   "codemirror_mode": {
    "name": "ipython",
    "version": 3
   },
   "file_extension": ".py",
   "mimetype": "text/x-python",
   "name": "python",
   "nbconvert_exporter": "python",
   "pygments_lexer": "ipython3",
   "version": "3.11.5"
  }
 },
 "nbformat": 4,
 "nbformat_minor": 5
}
